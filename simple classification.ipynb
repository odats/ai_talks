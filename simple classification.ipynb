{
 "cells": [
  {
   "cell_type": "code",
   "execution_count": 1,
   "metadata": {},
   "outputs": [],
   "source": [
    "import matplotlib.pyplot as plt\n",
    "import numpy as np\n",
    "from random import randint\n",
    "import time"
   ]
  },
  {
   "cell_type": "code",
   "execution_count": 2,
   "metadata": {},
   "outputs": [
    {
     "data": {
      "image/png": "[encoded data removed]",
      "text/plain": [
       "<matplotlib.figure.Figure at 0x1067d2c88>"
      ]
     },
     "metadata": {},
     "output_type": "display_data"
    }
   ],
   "source": [
    "N = 50 # number of points per class\n",
    "D = 2 # dimensionality\n",
    "K = 2 # number of classes\n",
    "X = np.zeros((N*K,D)) # data matrix (each row = single example)\n",
    "y = np.zeros(N*K, dtype='uint8') # class labels\n",
    "for j in range(K):\n",
    "    ix = range(N*j,N*(j+1))\n",
    "    r = np.linspace(0.0,1,N) # radius\n",
    "    t = np.random.randn(N)*0.005\n",
    "    X[ix] = np.c_[r, t+j*0.05]\n",
    "    y[ix] = j\n",
    "    \n",
    "plt.scatter(X[:, 0], X[:, 1], c=y, s=40, cmap=plt.cm.Spectral)\n",
    "plt.show()"
   ]
  },
  {
   "cell_type": "code",
   "execution_count": 3,
   "metadata": {},
   "outputs": [],
   "source": [
    "def L_i_vectorized(x, y, W):\n",
    "    \"\"\"\n",
    "    A faster half-vectorized implementation. half-vectorized\n",
    "    refers to the fact that for a single example the implementation contains\n",
    "    no for loops, but there is still one loop over the examples (outside this function)\n",
    "    \"\"\"\n",
    "    delta = 0.01\n",
    "    scores = W.dot(x)\n",
    "    # compute the margins for all classes in one vector operation\n",
    "    margins = np.maximum(0, scores - scores[y] + delta)\n",
    "    # on y-th position scores[y] - scores[y] canceled and gave delta. We want\n",
    "    # to ignore the y-th position and only consider margin on max wrong class\n",
    "    margins[y] = 0\n",
    "    loss_i = np.sum(margins)\n",
    "    return loss_i\n",
    "\n",
    "def L(X, y, W):\n",
    "    \"\"\"\n",
    "    fully-vectorized implementation :\n",
    "    - X holds all the training examples as columns (e.g. 3073 x 50,000 in CIFAR-10)\n",
    "    - y is array of integers specifying correct class (e.g. 50,000-D array)\n",
    "    - W are weights (e.g. 10 x 3073)\n",
    "    \"\"\"\n",
    "    \n",
    "    loss = np.zeros(X.shape)\n",
    "    \n",
    "    for i in range(len(loss)):\n",
    "        loss_i = L_i_vectorized(X[i], y[i], W)\n",
    "        loss[i] = loss_i\n",
    "        \n",
    "    return np.sum(loss)\n",
    "\n",
    "def predict(X, y, W_final):\n",
    "    num_test = X.shape[0]\n",
    "    # lets make sure that the output type matches the input type\n",
    "    Ypred = np.zeros(num_test)\n",
    "\n",
    "    # loop over all test rows\n",
    "    for i in range(num_test):\n",
    "        scores = W_final.dot(X[i])\n",
    "        max_index = np.argmax(scores)\n",
    "        Ypred[i] = max_index\n",
    "\n",
    "    print('accuracy: %f' % ( np.mean(Ypred == y) ))\n",
    "    \n",
    "def eval_numerical_gradient(f, x):\n",
    "    \"\"\" \n",
    "    a naive implementation of numerical gradient of f at x \n",
    "    - f should be a function that takes a single argument\n",
    "    - x is the point (numpy array) to evaluate the gradient at\n",
    "    \"\"\" \n",
    "\n",
    "    fx = f(x) # evaluate function value at original point\n",
    "    grad = np.zeros(x.shape)\n",
    "    h = 0.000000001\n",
    "\n",
    "    # iterate over all indexes in x\n",
    "    it = np.nditer(x, flags=['multi_index'], op_flags=['readwrite'])\n",
    "    while not it.finished:\n",
    "\n",
    "        # evaluate function at x+h\n",
    "        ix = it.multi_index\n",
    "        old_value = x[ix]\n",
    "        x[ix] = old_value + h # increment by h\n",
    "        fxh = f(x) # evalute f(x + h)\n",
    "        x[ix] = old_value # restore to previous value (very important!)\n",
    "\n",
    "        # compute the partial derivative\n",
    "        grad[ix] = (fxh - fx) / h # the slope\n",
    "        it.iternext() # step to next dimension\n",
    "\n",
    "    return grad"
   ]
  },
  {
   "cell_type": "code",
   "execution_count": 4,
   "metadata": {},
   "outputs": [],
   "source": [
    "# W = 0.01 * np.random.randn(D,K)\n",
    "# b = np.zeros((1,K))\n",
    "# print(W.dot(X[1]))\n",
    "\n",
    "# print(L(X,y,W))\n",
    "# predict(X, y, W)"
   ]
  },
  {
   "cell_type": "code",
   "execution_count": null,
   "metadata": {},
   "outputs": [],
   "source": []
  },
  {
   "cell_type": "code",
   "execution_count": 8,
   "metadata": {
    "scrolled": true
   },
   "outputs": [
    {
     "name": "stdout",
     "output_type": "stream",
     "text": [
      "11:57:24 0\n",
      "accuracy: 0.430000\n",
      "11:57:27 500\n",
      "accuracy: 0.450000\n",
      "11:57:30 1000\n",
      "accuracy: 0.480000\n",
      "11:57:33 1500\n",
      "accuracy: 0.500000\n",
      "11:57:36 2000\n",
      "accuracy: 0.500000\n",
      "11:57:39 2500\n",
      "accuracy: 0.500000\n",
      "11:57:43 3000\n",
      "accuracy: 0.500000\n",
      "11:57:46 3500\n",
      "accuracy: 0.500000\n",
      "11:57:49 4000\n",
      "accuracy: 0.500000\n",
      "11:57:52 4500\n",
      "accuracy: 0.500000\n",
      "11:57:55 5000\n",
      "accuracy: 0.500000\n",
      "11:57:58 5500\n",
      "accuracy: 0.500000\n",
      "11:58:01 6000\n",
      "accuracy: 0.500000\n",
      "11:58:04 6500\n",
      "accuracy: 0.500000\n",
      "11:58:07 7000\n",
      "accuracy: 0.500000\n",
      "11:58:11 7500\n",
      "accuracy: 0.500000\n",
      "11:58:14 8000\n",
      "accuracy: 0.500000\n",
      "11:58:17 8500\n",
      "accuracy: 0.510000\n",
      "11:58:20 9000\n",
      "accuracy: 0.520000\n",
      "11:58:23 9500\n",
      "accuracy: 0.520000\n"
     ]
    }
   ],
   "source": [
    "def loss_fun(W):    \n",
    "    return L(X,y,W)\n",
    "\n",
    "weights = 0.0001 * np.random.randn(D,K)\n",
    "step_size = 10 ** -8\n",
    "for i in range(10000): \n",
    "    df = eval_numerical_gradient(loss_fun, weights)     \n",
    "    weights += - step_size * df\n",
    "\n",
    "    if i % 500 == 0:\n",
    "        print(time.strftime('%X'), i)\n",
    "        #print('gradient', i)\n",
    "        #print(weights)\n",
    "        predict(X, y, weights)"
   ]
  },
  {
   "cell_type": "code",
   "execution_count": 6,
   "metadata": {},
   "outputs": [
    {
     "name": "stdout",
     "output_type": "stream",
     "text": [
      "accuracy: 0.940000\n"
     ]
    }
   ],
   "source": [
    "predict(X, y, weights)"
   ]
  },
  {
   "cell_type": "code",
   "execution_count": 7,
   "metadata": {},
   "outputs": [
    {
     "name": "stdout",
     "output_type": "stream",
     "text": [
      "[[ -2.70127559e-05  -5.32985622e-04]\n",
      " [ -4.91947497e-05   4.88041027e-04]]\n"
     ]
    }
   ],
   "source": [
    "print(weights)"
   ]
  },
  {
   "cell_type": "code",
   "execution_count": null,
   "metadata": {},
   "outputs": [],
   "source": []
  },
  {
   "cell_type": "code",
   "execution_count": null,
   "metadata": {},
   "outputs": [],
   "source": []
  }
 ],
 "metadata": {
  "kernelspec": {
   "display_name": "Python 3",
   "language": "python",
   "name": "python3"
  },
  "language_info": {
   "codemirror_mode": {
    "name": "ipython",
    "version": 3
   },
   "file_extension": ".py",
   "mimetype": "text/x-python",
   "name": "python",
   "nbconvert_exporter": "python",
   "pygments_lexer": "ipython3",
   "version": "3.6.2"
  }
 },
 "nbformat": 4,
 "nbformat_minor": 2
}
